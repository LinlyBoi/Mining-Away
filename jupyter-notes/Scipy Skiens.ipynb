{
 "cells": [
  {
   "attachments": {},
   "cell_type": "markdown",
   "metadata": {},
   "source": [
    "# SciPy Crash course Notebook\n",
    "\n",
    "Hopefully I'll be documenting what is used in Scipy here\n",
    "\n",
    "Checkout the docs btw:\n",
    "- https://docs.scipy.org/doc/scipy/getting_started.html#getting-started-ref"
   ]
  }
 ],
 "metadata": {
  "kernelspec": {
   "display_name": "Python 3",
   "language": "python",
   "name": "python3"
  },
  "language_info": {
   "name": "python",
   "version": "3.10.2"
  },
  "orig_nbformat": 4
 },
 "nbformat": 4,
 "nbformat_minor": 2
}
